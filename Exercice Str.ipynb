{
 "cells": [
  {
   "cell_type": "code",
   "execution_count": 59,
   "source": [
    "G=input('write your string ')"
   ],
   "outputs": [],
   "metadata": {}
  },
  {
   "cell_type": "code",
   "execution_count": 60,
   "source": [
    "if len(G)>=7 :\r\n",
    "    x=len(G)//2\r\n",
    "    print (\"the midlle three character are \"+ G[(x-1):(x+2)])\r\n",
    "else : print(\"error\")"
   ],
   "outputs": [
    {
     "output_type": "stream",
     "name": "stdout",
     "text": [
      "the midlle three character are onJ\n"
     ]
    }
   ],
   "metadata": {}
  },
  {
   "cell_type": "code",
   "execution_count": 72,
   "source": [
    "F=\"Emma25 is Data scientist50 and AI Expert\"\r\n",
    "print (F.split())"
   ],
   "outputs": [
    {
     "output_type": "stream",
     "name": "stdout",
     "text": [
      "['Emma25', 'is', 'Data', 'scientist50', 'and', 'AI', 'Expert']\n"
     ]
    }
   ],
   "metadata": {}
  },
  {
   "cell_type": "code",
   "execution_count": 86,
   "source": [
    "G = F.split()\r\n",
    "for i in range (len(G)) :\r\n",
    "    if not G[i].isalpha() or G[i].isdigit() :\r\n",
    "        print (G[i])"
   ],
   "outputs": [
    {
     "output_type": "stream",
     "name": "stdout",
     "text": [
      "Emma25\n",
      "scientist50\n"
     ]
    }
   ],
   "metadata": {}
  }
 ],
 "metadata": {
  "orig_nbformat": 4,
  "language_info": {
   "name": "python",
   "version": "3.9.6",
   "mimetype": "text/x-python",
   "codemirror_mode": {
    "name": "ipython",
    "version": 3
   },
   "pygments_lexer": "ipython3",
   "nbconvert_exporter": "python",
   "file_extension": ".py"
  },
  "kernelspec": {
   "name": "python3",
   "display_name": "Python 3.9.6 64-bit"
  },
  "interpreter": {
   "hash": "e885cd74143ad494932267455ab53278514454996393c47fe6c2589217b9edf3"
  }
 },
 "nbformat": 4,
 "nbformat_minor": 2
}