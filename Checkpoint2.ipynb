{
 "cells": [
  {
   "cell_type": "code",
   "execution_count": 4,
   "source": [
    "import numpy as np\r\n",
    "import math"
   ],
   "outputs": [],
   "metadata": {}
  },
  {
   "cell_type": "markdown",
   "source": [
    "<H1>EXercice 01"
   ],
   "metadata": {}
  },
  {
   "cell_type": "code",
   "execution_count": 11,
   "source": [
    "begin=int (input(\"set the begning of your serie\"))\r\n",
    "end =int ( input(\"sent the end of your serie\"))\r\n",
    "#begin=2000\r\n",
    "#end=3200"
   ],
   "outputs": [],
   "metadata": {}
  },
  {
   "cell_type": "code",
   "execution_count": 17,
   "source": [
    "print (\"all numbers which are divisible by 7 but are not a multiple of 5, between \"+str(begin)+ \" and \" + str(end))\r\n",
    "M=[]\r\n",
    "begin=begin+(7-begin%7) #Condition de demarage\r\n",
    "for i in range (begin,end,7):\r\n",
    "    if i%5 != 0:\r\n",
    "        M.append(i)\r\n",
    "print (M)"
   ],
   "outputs": [
    {
     "output_type": "stream",
     "name": "stdout",
     "text": [
      "all numbers which are divisible by 7 but are not a multiple of 5, between 2016 and 3200\n",
      "[2023, 2037, 2044, 2051, 2058, 2072, 2079, 2086, 2093, 2107, 2114, 2121, 2128, 2142, 2149, 2156, 2163, 2177, 2184, 2191, 2198, 2212, 2219, 2226, 2233, 2247, 2254, 2261, 2268, 2282, 2289, 2296, 2303, 2317, 2324, 2331, 2338, 2352, 2359, 2366, 2373, 2387, 2394, 2401, 2408, 2422, 2429, 2436, 2443, 2457, 2464, 2471, 2478, 2492, 2499, 2506, 2513, 2527, 2534, 2541, 2548, 2562, 2569, 2576, 2583, 2597, 2604, 2611, 2618, 2632, 2639, 2646, 2653, 2667, 2674, 2681, 2688, 2702, 2709, 2716, 2723, 2737, 2744, 2751, 2758, 2772, 2779, 2786, 2793, 2807, 2814, 2821, 2828, 2842, 2849, 2856, 2863, 2877, 2884, 2891, 2898, 2912, 2919, 2926, 2933, 2947, 2954, 2961, 2968, 2982, 2989, 2996, 3003, 3017, 3024, 3031, 3038, 3052, 3059, 3066, 3073, 3087, 3094, 3101, 3108, 3122, 3129, 3136, 3143, 3157, 3164, 3171, 3178, 3192, 3199]\n"
     ]
    }
   ],
   "metadata": {}
  },
  {
   "cell_type": "markdown",
   "source": [
    "<H1>Exercice 02"
   ],
   "metadata": {}
  },
  {
   "cell_type": "code",
   "execution_count": 18,
   "source": [
    "def factoriel (n):\r\n",
    "    fact=1\r\n",
    "    for i in range(1,n+1):\r\n",
    "        fact*=i\r\n",
    "    return fact"
   ],
   "outputs": [],
   "metadata": {}
  },
  {
   "cell_type": "code",
   "execution_count": 19,
   "source": [
    "n=int (input('number that you want its factorial'))\r\n",
    "print(\"the factorial of \"+ str(n)+\" is \"+str(factoriel(n)))"
   ],
   "outputs": [
    {
     "output_type": "stream",
     "name": "stdout",
     "text": [
      "the factorial of 5 is 120\n"
     ]
    }
   ],
   "metadata": {}
  },
  {
   "cell_type": "markdown",
   "source": [
    "<H1>Exercice 3"
   ],
   "metadata": {}
  },
  {
   "cell_type": "code",
   "execution_count": 25,
   "source": [
    "n=int (input(\"give an integer number \"))\r\n",
    "mydict=dict()\r\n",
    "for i in range(1,n+1):\r\n",
    "    mydict.update({i:i*i})\r\n",
    "\r\n",
    "print(mydict)\r\n"
   ],
   "outputs": [
    {
     "output_type": "stream",
     "name": "stdout",
     "text": [
      "{1: 1, 2: 4, 3: 9, 4: 16, 5: 25}\n"
     ]
    }
   ],
   "metadata": {}
  },
  {
   "cell_type": "markdown",
   "source": [
    "<H1>Exercice 4"
   ],
   "metadata": {}
  },
  {
   "cell_type": "code",
   "execution_count": 18,
   "source": [
    "word=input(\"write your string \")\r\n",
    "n=int(input(\"give an integer \"))\r\n",
    "def missing_char(word ,n): \r\n",
    "    if n<=len(word):\r\n",
    "\t      part1 = word[:n] \r\n",
    "\t      part2 = word[n+1:]\r\n",
    "\t      return part1 + part2\r\n",
    "    return \"error\"\r\n",
    "print (missing_char(word,n))"
   ],
   "outputs": [
    {
     "output_type": "execute_result",
     "data": {
      "text/plain": [
       "'Air'"
      ]
     },
     "metadata": {},
     "execution_count": 18
    }
   ],
   "metadata": {}
  },
  {
   "cell_type": "markdown",
   "source": [
    "<H1>Exercice 5"
   ],
   "metadata": {}
  },
  {
   "cell_type": "code",
   "execution_count": 5,
   "source": [
    "arr= np.arange(6).reshape(3,2)\r\n",
    "print(\"Original array elements:\\n\",arr)\r\n",
    "print(\"Array to list: \",arr.tolist())"
   ],
   "outputs": [
    {
     "output_type": "stream",
     "name": "stdout",
     "text": [
      "Original array elements:\n",
      " [[0 1]\n",
      " [2 3]\n",
      " [4 5]]\n",
      "Array to list:  [[0, 1], [2, 3], [4, 5]]\n"
     ]
    }
   ],
   "metadata": {}
  },
  {
   "cell_type": "markdown",
   "source": [
    "<H1>Exercice 6"
   ],
   "metadata": {}
  },
  {
   "cell_type": "code",
   "execution_count": 8,
   "source": [
    "import numpy as np\r\n",
    "array1 = np.array([0, 1, 2])\r\n",
    "array2 = np.array([2, 1, 0])\r\n",
    "print(\"Original array1:\",array1)\r\n",
    "print(\"Original array2:\",array2)\r\n",
    "print(\"Covariance matrix of the said arrays:\\n\",np.cov(array1, array2))"
   ],
   "outputs": [
    {
     "output_type": "stream",
     "name": "stdout",
     "text": [
      "Original array1: [0 1 2]\n",
      "Original array2: [2 1 0]\n",
      "Covariance matrix of the said arrays:\n",
      " [[ 1. -1.]\n",
      " [-1.  1.]]\n"
     ]
    }
   ],
   "metadata": {}
  },
  {
   "cell_type": "markdown",
   "source": [
    "<H1>Exercice 7"
   ],
   "metadata": {}
  },
  {
   "cell_type": "code",
   "execution_count": 17,
   "source": [
    "print ('formula: Q = Square root of [(2 * C * D)/H] ')\r\n",
    "print(\"D is the variable whose values should be input into your program in a comma-separated sequence \")\r\n",
    "ListD = input(\"Provide D: \")\r\n",
    "ListD = ListD.split(',')\r\n",
    "print(\"your D list is :\",ListD)\r\n",
    "def formulaQ (listD):\r\n",
    "    C=50\r\n",
    "    H=30\r\n",
    "    ListQ = []\r\n",
    "    for D in ListD:\r\n",
    "        Q = round(math.sqrt(2 * C * int(D) / H))\r\n",
    "        ListQ.append(Q)\r\n",
    "    return ListQ\r\n",
    "\r\n",
    "print(\"your results are \",formulaQ(ListD))\r\n",
    "\r\n"
   ],
   "outputs": [
    {
     "output_type": "stream",
     "name": "stdout",
     "text": [
      "formula: Q = Square root of [(2 * C * D)/H] \n",
      "D is the variable whose values should be input into your program in a comma-separated sequence \n",
      "your D list is : ['100', '150']\n",
      "your results are  [18, 22]\n"
     ]
    }
   ],
   "metadata": {}
  }
 ],
 "metadata": {
  "orig_nbformat": 4,
  "language_info": {
   "name": "python",
   "version": "3.9.6",
   "mimetype": "text/x-python",
   "codemirror_mode": {
    "name": "ipython",
    "version": 3
   },
   "pygments_lexer": "ipython3",
   "nbconvert_exporter": "python",
   "file_extension": ".py"
  },
  "kernelspec": {
   "name": "python3",
   "display_name": "Python 3.9.6 64-bit"
  },
  "interpreter": {
   "hash": "e885cd74143ad494932267455ab53278514454996393c47fe6c2589217b9edf3"
  }
 },
 "nbformat": 4,
 "nbformat_minor": 2
}