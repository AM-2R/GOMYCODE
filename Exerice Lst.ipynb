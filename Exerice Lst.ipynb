{
 "cells": [
  {
   "cell_type": "code",
   "execution_count": 3,
   "source": [
    "list1=[\"M\",\"Na\",\"i\",\"ke\"]\r\n",
    "list2=[\"y\",\"me\",\"s\",\"lly\"]\r\n",
    "list3=[]\r\n",
    "for i in range (len(list1)):\r\n",
    "    list3.append(list1[i]+list2[i])\r\n",
    "\r\n",
    "print (list3)\r\n"
   ],
   "outputs": [
    {
     "output_type": "stream",
     "name": "stdout",
     "text": [
      "['My', 'Name', 'is', 'kelly']\n"
     ]
    }
   ],
   "metadata": {}
  }
 ],
 "metadata": {
  "orig_nbformat": 4,
  "language_info": {
   "name": "python",
   "version": "3.9.6",
   "mimetype": "text/x-python",
   "codemirror_mode": {
    "name": "ipython",
    "version": 3
   },
   "pygments_lexer": "ipython3",
   "nbconvert_exporter": "python",
   "file_extension": ".py"
  },
  "kernelspec": {
   "name": "python3",
   "display_name": "Python 3.9.6 64-bit"
  },
  "interpreter": {
   "hash": "e885cd74143ad494932267455ab53278514454996393c47fe6c2589217b9edf3"
  }
 },
 "nbformat": 4,
 "nbformat_minor": 2
}