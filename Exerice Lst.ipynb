{
 "cells": [
  {
   "cell_type": "code",
   "execution_count": 3,
   "source": [
    "list1=[\"M\",\"Na\",\"i\",\"ke\"]\r\n",
    "list2=[\"y\",\"me\",\"s\",\"lly\"]\r\n",
    "list3=[]\r\n",
    "for i in range (len(list1)):\r\n",
    "    list3.append(list1[i]+list2[i])\r\n",
    "\r\n",
    "print (list3)\r\n"
   ],
   "outputs": [
    {
     "output_type": "stream",
     "name": "stdout",
     "text": [
      "['My', 'Name', 'is', 'kelly']\n"
     ]
    }
   ],
   "metadata": {}
  },
  {
   "cell_type": "code",
   "execution_count": 5,
   "source": [
    "list1=[10,20,30,40]\r\n",
    "list2=[100,200,300,400]\r\n",
    "for i in range(len(list1)):\r\n",
    "    print (list1[i],list2[-i-1])"
   ],
   "outputs": [
    {
     "output_type": "stream",
     "name": "stdout",
     "text": [
      "10 400\n",
      "20 300\n",
      "30 200\n",
      "40 100\n"
     ]
    }
   ],
   "metadata": {}
  },
  {
   "cell_type": "code",
   "execution_count": 20,
   "source": [
    "mat1=[[1,2,3],[4,5,6],[7,8,9]]\r\n",
    "mat2=[[1,2,3],[4,5,6],[7,8,9]]\r\n",
    "result=[]\r\n",
    "if len(mat1)==len(mat2):\r\n",
    "\r\n",
    "    for i in range(len(mat1)):\r\n",
    "        result.append([])\r\n",
    "        for j in range (len (mat1[i])):\r\n",
    "             result[i].append(mat1[i][j]*mat2[i][j])\r\n",
    "\r\n",
    "    print (result)\r\n",
    "else:print(\"error \")\r\n",
    "\r\n",
    "#solution 2\r\n",
    "result = [[sum(x*y for x,y in zip(mat1_row,mat2_col)) for mat2_col in zip(*mat2)] for mat1_row in mat2]\r\n",
    "\r\n",
    "\r\n"
   ],
   "outputs": [
    {
     "output_type": "stream",
     "name": "stdout",
     "text": [
      "[[1, 4, 9], [16, 25, 36], [49, 64, 81]]\n"
     ]
    }
   ],
   "metadata": {}
  },
  {
   "cell_type": "code",
   "execution_count": 17,
   "source": [
    "result = [[sum(a*b for a,b in zip(X_row,Y_col)) for Y_col in zip(*Y)] for X_row in X]"
   ],
   "outputs": [],
   "metadata": {}
  }
 ],
 "metadata": {
  "orig_nbformat": 4,
  "language_info": {
   "name": "python",
   "version": "3.9.6",
   "mimetype": "text/x-python",
   "codemirror_mode": {
    "name": "ipython",
    "version": 3
   },
   "pygments_lexer": "ipython3",
   "nbconvert_exporter": "python",
   "file_extension": ".py"
  },
  "kernelspec": {
   "name": "python3",
   "display_name": "Python 3.9.6 64-bit"
  },
  "interpreter": {
   "hash": "e885cd74143ad494932267455ab53278514454996393c47fe6c2589217b9edf3"
  }
 },
 "nbformat": 4,
 "nbformat_minor": 2
}